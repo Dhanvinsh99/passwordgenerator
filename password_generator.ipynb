{
  "cells": [
    {
      "cell_type": "markdown",
      "metadata": {
        "colab_type": "text",
        "id": "view-in-github"
      },
      "source": [
        "<a href=\"https://colab.research.google.com/github/Dhanvinsh99/passwordgenerator/blob/main/password_generator.ipynb\" target=\"_parent\"><img src=\"https://colab.research.google.com/assets/colab-badge.svg\" alt=\"Open In Colab\"/></a>"
      ]
    },
    {
      "cell_type": "code",
      "execution_count": null,
      "metadata": {
        "colab": {
          "base_uri": "https://localhost:8080/"
        },
        "id": "MzDtsD-hsnZ7",
        "outputId": "89c91e3e-676c-4e09-aae9-eb942abad8b7"
      },
      "outputs": [],
      "source": [
        "import random as rand\n",
        "def pasgen():\n",
        "  i = int(input(\"how many digits do you need?\"))\n",
        "  chars = [\"1\", \"2\", \"3\", \"4\", \"5\", \"6\", \"7\", \"8\", \"9\", \"0\",\"a\", \"b\", \"c\", \"d\", \"e\", \"f\", \"g\", \"h\", \"i\", \"j\", \"k\", \"l\", \"m\", \"n\", \"o\", \"p\", \"q\", \"r\", \"s\", \"t\", \"u\", \"v\", \"w\", \"x\", \"y\", \"z\",\"A\",'B','C','D', 'E', 'F','G','H','I','J','K','L','M','N','O','P','Q','R','S','T','U','V','W','X','Y','Z', \"!\", \"@\", \"#\",\"$\", \"%\", \"^\", \"&\", \"*\", \"(\", \")\", \"[\", \"]\",\"{\", \"}\", \";\", \":\", \",\", \"<\", \".\", \">\", \"/\", \"?\",\"|\"]\n",
        "  print(\"digits are\")\n",
        "  s = \"\"\n",
        "  for x in range(0, i):\n",
        "    v = rand.choice(chars)\n",
        "    s = s + str(v)\n",
        "  print(s)\n",
        "\n",
        "pasgen()\n"
      ]
    }
  ],
  "metadata": {
    "colab": {
      "authorship_tag": "ABX9TyNcxGXKdfG3IfUXCTKsbDc2",
      "include_colab_link": true,
      "name": "password_generator.ipynb",
      "provenance": []
    },
    "kernelspec": {
      "display_name": "Python 3",
      "name": "python3"
    }
  },
  "nbformat": 4,
  "nbformat_minor": 0
}

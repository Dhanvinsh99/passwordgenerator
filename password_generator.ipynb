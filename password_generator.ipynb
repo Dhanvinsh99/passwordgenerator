{
  "nbformat": 4,
  "nbformat_minor": 0,
  "metadata": {
    "colab": {
      "name": "password_generator.ipynb",
      "provenance": [],
      "authorship_tag": "ABX9TyNcxGXKdfG3IfUXCTKsbDc2",
      "include_colab_link": true
    },
    "kernelspec": {
      "name": "python3",
      "display_name": "Python 3"
    }
  },
  "cells": [
    {
      "cell_type": "markdown",
      "metadata": {
        "id": "view-in-github",
        "colab_type": "text"
      },
      "source": [
        "<a href=\"https://colab.research.google.com/github/Dhanvinsh99/passwordgenerator/blob/main/password_generator.ipynb\" target=\"_parent\"><img src=\"https://colab.research.google.com/assets/colab-badge.svg\" alt=\"Open In Colab\"/></a>"
      ]
    },
    {
      "cell_type": "code",
      "metadata": {
        "id": "MzDtsD-hsnZ7",
        "outputId": "89c91e3e-676c-4e09-aae9-eb942abad8b7",
        "colab": {
          "base_uri": "https://localhost:8080/"
        }
      },
      "source": [
        "import random as rand\n",
        "def pasgen():\n",
        "  i = int(input(\"how many digits do you need?\"))\n",
        "  chars = [\"1\", \"2\", \"3\", \"4\", \"5\", \"6\", \"7\", \"8\", \"9\", \"0\",\"a\", \"b\", \"c\", \"d\", \"e\", \"f\", \"g\", \"h\", \"i\", \"j\", \"k\", \"l\", \"m\", \"n\", \"o\", \"p\", \"q\", \"r\", \"s\", \"t\", \"u\", \"v\", \"w\", \"x\", \"y\", \"z\", \"!\", \"@\", \"#\",\"$\", \"%\", \"^\", \"&\", \"*\", \"(\", \")\", \"[\", \"]\",\"{\", \"}\", \";\", \":\", \",\", \"<\", \".\", \">\", \"/\", \"?\",\"|\"]\n",
        "  print(\"digits are\")\n",
        "  for x in range(0, i):\n",
        "    v = rand.choice(chars)\n",
        "    print(v)\n",
        "\n",
        "pasgen()\n"
      ],
      "execution_count": null,
      "outputs": [
        {
          "output_type": "stream",
          "text": [
            "how many digits do you need?10\n",
            "digits are\n",
            "z\n",
            "t\n",
            "c\n",
            "d\n",
            "y\n",
            "&\n",
            "j\n",
            "#\n",
            "e\n",
            "5\n"
          ],
          "name": "stdout"
        }
      ]
    }
  ]
}